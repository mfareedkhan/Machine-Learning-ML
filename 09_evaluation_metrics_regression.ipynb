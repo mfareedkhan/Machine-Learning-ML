{
 "cells": [
  {
   "cell_type": "markdown",
   "metadata": {},
   "source": [
    "# **Evaluation Metrics**"
   ]
  },
  {
   "cell_type": "markdown",
   "metadata": {},
   "source": [
    "\n",
    "| Type | Supervision | Output | Main Aim | Example | Algorithm |\n",
    "| --- | --- | --- | --- | --- | --- |\n",
    "| `Regression` | Supervised | Numeric | Forecast / Predict | Predicting stock market price | Linear Regression |\n",
    "| `Classification` | Supervised | Categorical | Compute the category of the data | Classify emails as spam or non-spam | Logistic Regression |\n",
    "| `Clustering` | Unsupervised | Assigns data points into clusters | Group similar items into clusters | Find all transactions which are fraudulent in nature | K-Means |"
   ]
  },
  {
   "cell_type": "markdown",
   "metadata": {},
   "source": [
    "## **1. Evaluation Metrics for `Regression` Models:**"
   ]
  },
  {
   "cell_type": "markdown",
   "metadata": {},
   "source": [
    "### **1.1 Mean Absolute Error (MAE):** \n",
    "> **Description**: It is the average of the absolute differences between `predictions` and `actual values`. It gives an idea of how wrong the predictions were. \n",
    "\n",
    "**The formula is given by:**\n",
    "\n",
    "$$MAE = \\frac{1}{n} \\sum_{i=1}^{n} |y_{i} - \\hat{y}_{i}|$$\n",
    "where $y_{i}$ is the actual value and $\\hat{y}_{i}$ is the predicted value.\n",
    "\n",
    "`For example`: \n",
    "| MAE Value | Interpretation |\n",
    "| --- | --- |\n",
    "| `0.0` | The model's predictions are perfect. There is no difference between the predicted and actual values. |\n",
    "| `0.5` | On average, the model's predictions are 0.5 units away from the actual values. This could be good or bad depending on the scale of your output variable. |\n",
    "| `1.0` | On average, the model's predictions are 1 unit away from the actual values. Again, whether this is good or bad depends on the scale of your output variable. |\n",
    "| `2.0` | On average, the model's predictions are 2 units away from the actual values. If the scale of your output variable is small, this might indicate poor model performance. |\n",
    "| `10.0` | On average, the model's predictions are 10 units away from the actual values. This is likely to indicate poor model performance, unless the scale of your output variable is very large. |\n",
    "\n",
    "Remember, the interpretation of MAE depends on the scale of your output variable. A MAE of 0.5 could be excellent if your output variable ranges from 0 to 1, but it could be very poor if your output variable ranges from 0 to 0.1.\n",
    "\n",
    "**Interpretation**: \n",
    "- It is not affected by the outliers. \n",
    "- It is the average of the absolute differences between the actual and predicted values. \n",
    "- The lower the value, the better the model. A value of 0 indicates no error."
   ]
  },
  {
   "cell_type": "markdown",
   "metadata": {},
   "source": [
    "### **1.2 Mean Squared Error (MSE):** \n",
    "> **Description**: It is the average of the squares of the errors. It gives an idea of how far the predictions are from the actual values.\n",
    "\n",
    "**The formula is given by**:\n",
    "$$MSE = \\frac{1}{n} \\sum_{i=1}^{n} (Y_i - \\hat{Y}_i)^2$$\n",
    "Where:\n",
    "- ${n}$ is the total number of observations\n",
    "- $Y_{i}$ is the actual value of the ${i}$-th observation\n",
    "- $\\hat{Y}_{i}$ is the predicted value of the ${i}$-th observation\n",
    "\n",
    "`For example:`\n",
    "| MSE Value | Interpretation |\n",
    "| --- | --- |\n",
    "| `0.0` | The model's predictions are perfect. There is no difference between the predicted and actual values. |\n",
    "| `0.5` | On average, the model's predictions are 0.5 units away from the actual values. This could be good or bad depending on the scale of your output variable. |\n",
    "| `1.0` | On average, the model's predictions are 1 unit away from the actual values. Again, whether this is good or bad depends on the scale of your output variable. |\n",
    "| `2.0` | On average, the model's predictions are 2 units away from the actual values. If the scale of your output variable is small, this might indicate poor model performance. |\n",
    "\n",
    "**Interpretation:**\n",
    "- It is more sensitive to the outliers than MAE because it squares the errors.\n",
    "- Like MAE lower values are better than higher values.\n",
    "- It is the average of the squares of the errors."
   ]
  },
  {
   "cell_type": "markdown",
   "metadata": {},
   "source": [
    "### **1.3 Root Mean Squared Error (RMSE):**\n",
    "> **Description**: It is the square root of the average of the squared differences between the predicted and actual values. It gives an idea of how far the predictions are from the actual values.\n",
    "\n",
    "**The formula is given by**:\n",
    "$$RMSE = \\sqrt{\\frac{1}{n} \\sum_{i=1}^{n} (Y_i - \\hat{Y}_i)^2}$$\n",
    "Where:\n",
    "- ${n}$ is the total number of observations\n",
    "- $Y_{i}$ is the actual value of the ${i}$-th observation\n",
    "- $\\hat{Y}_{i}$ is the predicted value of the ${i}$-th observation\n",
    "- $\\sqrt{}$ is the square root\n",
    "- $\\frac{1}{n} \\sum_{i=1}^{n} (Y_i - \\hat{Y}_i)^2$ is the mean squared error\n",
    "\n",
    "`For example:`\n",
    "| RMSE Value | Interpretation |\n",
    "| --- | --- |\n",
    "| `0.0` | The model's predictions are perfect. There is no difference between the predicted and actual values. |\n",
    "| `0.5` | On average, the model's predictions are 0.5 units away from the actual values. This could be good or bad depending on the scale of your output variable. |\n",
    "| `1.0` | On average, the model's predictions are 1 unit away from the actual values. Again, whether this is good or bad depends on the scale of your output variable. |\n",
    "| `2.0` | On average, the model's predictions are 2 units away from the actual values. If the scale of your output variable is small, this might indicate poor model performance. |\n",
    "\n",
    "**Interpretation**:\n",
    "- Lower values indicate better fit.\n",
    "- RMSE is more sensitive to outliers than MAE and often used when large errors are particularly undesirable."
   ]
  },
  {
   "cell_type": "markdown",
   "metadata": {},
   "source": [
    "### **1.4 R-Squared (Coefficient of Determination):**\n",
    "> **Description**: It is a statistical measure of how close the data are to the fitted regression line. It is also known as the coefficient of determination. It is the percentage of the response variable variation that is explained by a linear model.\n",
    "\n",
    "**The formula is given by**:\n",
    "$$R^2 = 1 - \\frac{SS_{res}}{SS_{tot}} = 1 - \\frac{\\sum_{i=1}^{n} (Y_i - \\hat{Y}_i)^2}{\\sum_{i=1}^{n} (Y_i - \\bar{Y})^2}$$ \n",
    "Where:\n",
    "- $SS_{res}$ is the sum of the squared residuals\n",
    "- $SS_{tot}$ is the total sum of the squared differences between the actual and mean values\n",
    "- $Y_{i}$ is the actual value of the ${i}$-th observation\n",
    "- $\\hat{Y}_{i}$ is the predicted value of the ${i}$-th observation\n",
    "- $\\bar{Y}$ is the mean of the actual values\n",
    "- $\\sum_{i=1}^{n} (Y_i - \\hat{Y}_i)^2$ is the sum of the squared residuals\n",
    "- $\\sum_{i=1}^{n} (Y_i - \\bar{Y})^2$ is the total sum of the squared differences between the actual and mean values\n",
    "- $1 - \\frac{SS_{res}}{SS_{tot}}$ is the coefficient of determination\n",
    "- $R^2$ is the coefficient of determination\n",
    "- $n$ is the total number of observations\n",
    "- $1$ is the constant\n",
    "\n",
    "`For example:`\n",
    "| R-Squared Value | Interpretation |\n",
    "| --- | --- |\n",
    "| `0.0` | The model explains none of the variability of the response data around its mean. |\n",
    "| `0.5` | The model explains 50% of the variability of the response data around its mean. |\n",
    "| `1.0` | The model explains 100% of the variability of the response data around its mean. |\n",
    "\n",
    "**Interpretation**:\n",
    "- Values range from 0 to 1 (0% to 100%). \n",
    "- The higher the value, the better the model fits the data.\n",
    "    - 0% indicates that the model explains none of the variability of the response data around its mean.\n",
    "    - 100% indicates that the model explains all the variability of the response data around its mean."
   ]
  },
  {
   "cell_type": "markdown",
   "metadata": {},
   "source": [
    "### **1.5 Adjusted R-Squared:**\n",
    "> **Description**: It is the modified version of R-Squared that adjusts for the number of predictors in the model. It is used to compare the goodness-of-fit of different models.\n",
    "\n",
    "**The formula is given by**:\n",
    "$$Adjusted R^2 = 1 - \\frac{(1 - R^2)(n - 1)}{n - p - 1}$$\n",
    "Where:\n",
    "- $R^2$ is the coefficient of determination\n",
    "- $n$ is the total number of observations\n",
    "- $p$ is the total number of predictors\n",
    "- $1 - \\frac{(1 - R^2)(n - 1)}{n - p - 1}$ is the adjusted coefficient of determination\n",
    "\n",
    "`For example:`\n",
    "| Adjusted R-Squared Value | Interpretation |\n",
    "| --- | --- |\n",
    "| `0.0` | The model explains none of the variability of the response data around its mean. |\n",
    "| `0.5` | The model explains 50% of the variability of the response data around its mean. |\n",
    "| `1.0` | The model explains 100% of the variability of the response data around its mean. |\n",
    "\n",
    "**Interpretation**:\n",
    "- Compares the explanatory power of regression models that contain different numbers of predictors.\n",
    "- It is used to compare the goodness-of-fit of different models.\n",
    "- It is always less than or equal to R-Squared. "
   ]
  },
  {
   "cell_type": "markdown",
   "metadata": {},
   "source": [
    "### **Choosing the right metric:**\n",
    "- The choice of the metric depends on the specific requirement of your analysis and the nature of the data.\n",
    "- For example, if you are more concerned about the outliers, MSE or RMSE might be more appropriate.\n",
    "- **MAE**: It is more useful when the distribution of the data is skewed.\n",
    "- **MSE**: It is more useful when the distribution of the data is normal.\n",
    "- **RMSE**: It is more useful when large errors are particularly undesirable.\n",
    "- **R-Squared**: It is more useful when you want to compare the goodness-of-fit of different models.\n",
    "- **Adjusted R-Squared**: It is more useful when you want to compare the goodness-of-fit of different models that contain different numbers of predictors.\n",
    "  - R-squared and Adjusted R-squared are useful for understanding the proportion of variance explained by the model, but they don't necessarily imply that the model isaccurate."
   ]
  },
  {
   "cell_type": "markdown",
   "metadata": {},
   "source": [
    "### **Summary of Evaluation Metrics for Regression Models:**\n",
    "\n",
    "| Metric | Pros | Cons | Example |\n",
    "| --- | --- | --- | --- |\n",
    "| Mean Absolute Error (MAE) | Easy to understand and calculate. Gives a direct average measure of how much the predictions deviate from the actual values. | Does not heavily penalize large errors. | If MAE is 0, the model is perfect. If MAE is 0.5, on average, the model's predictions are 0.5 units away from the actual values. |\n",
    "| Mean Squared Error (MSE) | More sensitive to outliers than MAE as it squares the errors before averaging. | Squaring the errors can lead to overestimation of the model's badness if there are large errors. | If MSE is 0, the model is perfect. If MSE is 1, on average, the square of the model's predictions are 1 unit away from the square of the actual values. |\n",
    "| Root Mean Squared Error (RMSE) | Even more sensitive to outliers than MSE. Gives a relatively high weight to large errors. | Like MSE, squaring the errors can lead to overestimation of the model's badness if there are large errors. | If RMSE is 0, the model is perfect. If RMSE is 1, on average, the square root of the model's predictions are 1 unit away from the square root of the actual values. |\n",
    "| R-Squared | Provides an indication of the goodness of fit of a set of predictions to the actual values. In terms of percentage, it explains how much the total variance is represented by the model. | It assumes that every independent variable in the model helps to explain the dependent variable. It can't determine whether the coefficient estimates and predictions are biased. | If R-Squared is 1, the model perfectly predicts the actual values. If R-Squared is 0, the model does not explain any of the variability of the response data around its mean. |\n",
    "| Adjusted R-Squared | Takes into account the number of predictors in the model. It only increases if the new predictor improves the model more than would be expected by chance. | It can be negative, and it's only applicable in the context of multiple linear regression. | If Adjusted R-Squared is 1, the model perfectly predicts the actual values, taking into account the number of predictors. If Adjusted R-Squared is 0, the model does not explain any of the variability of the response data around its mean, after adjusting for the number of predictors. |\n",
    "\n",
    "`Remember, the best metric to use depends on the specific characteristics of your regression problem, such as the presence of outliers and the number of predictors.`"
   ]
  }
 ],
 "metadata": {
  "language_info": {
   "name": "python"
  }
 },
 "nbformat": 4,
 "nbformat_minor": 2
}
