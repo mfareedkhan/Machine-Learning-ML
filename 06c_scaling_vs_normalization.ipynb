{
 "cells": [
  {
   "cell_type": "markdown",
   "metadata": {},
   "source": [
    "## **What is the Difference between 'Scaling' and 'Normalization'?**"
   ]
  },
  {
   "cell_type": "markdown",
   "metadata": {},
   "source": [
    "Sure, here's a comparison table in Markdown format:\n",
    "\n",
    "|                       | Scaling | Normalization |\n",
    "|-----------------------|---------|---------------|\n",
    "| **Purpose**           | Changes the range of data so all features are on a similar scale, without altering the shape of distribution | Changes the shape of the distribution of data to fit within a specific range (like 0 to 1). This includes transforming `skewed data` to approximate a normal distribution |\n",
    "| **Algorithms**        | Used in algorithms that use Euclidean distance or gradient descent, such as KNN, SVM, and linear regression. | Used in algorithms that do not assume any distribution of the data like K-Nearest Neighbors and Neural Networks. |\n",
    "| **Common Methods**    | StandardScaler, MinMaxScaler, MaxAbsScaler, RobustScaler. | MinMaxScaler, Square Root Transformation, BoxCox Transformation, Log Transformation |\n",
    "| **Use Cases**         | Used when features have different ranges. | Used when the dataset does not follow a Gaussian distribution. |\n",
    "\n",
    "`Please note that the terms \"scaling\" and \"normalization\" are sometimes used interchangeably in different contexts, and the exact definitions can vary. The above table is based on one common interpretation of these terms.`"
   ]
  }
 ],
 "metadata": {
  "language_info": {
   "name": "python"
  }
 },
 "nbformat": 4,
 "nbformat_minor": 2
}
